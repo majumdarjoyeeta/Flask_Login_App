{
 "cells": [
  {
   "cell_type": "code",
   "execution_count": 1,
   "id": "c10885a7-e160-4676-b234-9c363ec28e51",
   "metadata": {},
   "outputs": [
    {
     "name": "stdout",
     "output_type": "stream",
     "text": [
      "Collecting mysql-connector-python\n",
      "  Downloading mysql_connector_python-9.1.0-cp313-cp313-win_amd64.whl.metadata (6.2 kB)\n",
      "Downloading mysql_connector_python-9.1.0-cp313-cp313-win_amd64.whl (16.1 MB)\n",
      "   ---------------------------------------- 0.0/16.1 MB ? eta -:--:--\n",
      "   ---------------------------------------- 0.0/16.1 MB ? eta -:--:--\n",
      "   - -------------------------------------- 0.8/16.1 MB 4.5 MB/s eta 0:00:04\n",
      "   ------- -------------------------------- 3.1/16.1 MB 8.9 MB/s eta 0:00:02\n",
      "   --------------- ------------------------ 6.3/16.1 MB 11.1 MB/s eta 0:00:01\n",
      "   ------------------------ --------------- 9.7/16.1 MB 12.6 MB/s eta 0:00:01\n",
      "   -------------------------------- ------- 13.1/16.1 MB 13.6 MB/s eta 0:00:01\n",
      "   ---------------------------------------  16.0/16.1 MB 13.6 MB/s eta 0:00:01\n",
      "   ---------------------------------------- 16.1/16.1 MB 13.1 MB/s eta 0:00:00\n",
      "Installing collected packages: mysql-connector-python\n",
      "Successfully installed mysql-connector-python-9.1.0\n",
      "Note: you may need to restart the kernel to use updated packages.\n"
     ]
    }
   ],
   "source": [
    "%pip install mysql-connector-python"
   ]
  },
  {
   "cell_type": "code",
   "execution_count": 2,
   "id": "38c2b6bc-ee2a-4c3b-9e46-cdb56f3988d2",
   "metadata": {},
   "outputs": [
    {
     "name": "stdout",
     "output_type": "stream",
     "text": [
      "Collecting python-dotenv\n",
      "  Downloading python_dotenv-1.0.1-py3-none-any.whl.metadata (23 kB)\n",
      "Downloading python_dotenv-1.0.1-py3-none-any.whl (19 kB)\n",
      "Installing collected packages: python-dotenv\n",
      "Successfully installed python-dotenv-1.0.1\n",
      "Note: you may need to restart the kernel to use updated packages.\n"
     ]
    }
   ],
   "source": [
    "%pip install python-dotenv"
   ]
  },
  {
   "cell_type": "code",
   "execution_count": 5,
   "id": "739e1cb0-5221-4b13-b18f-2384b5a08a36",
   "metadata": {},
   "outputs": [],
   "source": [
    "import os\n",
    "from dotenv import load_dotenv"
   ]
  },
  {
   "cell_type": "code",
   "execution_count": 6,
   "id": "c0068681-56e2-49af-84d2-061c978127d8",
   "metadata": {},
   "outputs": [
    {
     "data": {
      "text/plain": [
       "True"
      ]
     },
     "execution_count": 6,
     "metadata": {},
     "output_type": "execute_result"
    }
   ],
   "source": [
    "load_dotenv()"
   ]
  },
  {
   "cell_type": "code",
   "execution_count": 7,
   "id": "51b656d2-6cdf-4933-bf24-5848ea515467",
   "metadata": {},
   "outputs": [],
   "source": [
    "# fetch variables\n",
    "db_host=os.getenv(\"DB_HOST\")\n",
    "db_user=os.getenv(\"DB_USER\")\n",
    "db_password=os.getenv(\"DB_PASSWORD\")\n",
    "db_name=os.getenv(\"DB_NAME\")"
   ]
  },
  {
   "cell_type": "code",
   "execution_count": 4,
   "id": "fba42813-4545-4f9c-87f7-9031b8bd5df4",
   "metadata": {},
   "outputs": [
    {
     "name": "stdout",
     "output_type": "stream",
     "text": [
      "127.0.0.1\n"
     ]
    }
   ],
   "source": [
    "print(db_host)"
   ]
  },
  {
   "cell_type": "code",
   "execution_count": 5,
   "id": "09b2d152-b4df-40fd-afab-346ae679dcdf",
   "metadata": {},
   "outputs": [
    {
     "name": "stdout",
     "output_type": "stream",
     "text": [
      "root\n"
     ]
    }
   ],
   "source": [
    "print(db_user)"
   ]
  },
  {
   "cell_type": "code",
   "execution_count": 3,
   "id": "6e46133c-2660-4278-9a5f-7dba38e73413",
   "metadata": {},
   "outputs": [],
   "source": [
    "import mysql.connector as conn"
   ]
  },
  {
   "cell_type": "code",
   "execution_count": 2,
   "id": "c70b484d-f24f-4cb4-92f7-7e987c3c7249",
   "metadata": {},
   "outputs": [
    {
     "ename": "NameError",
     "evalue": "name 'db_host' is not defined",
     "output_type": "error",
     "traceback": [
      "\u001b[1;31m---------------------------------------------------------------------------\u001b[0m",
      "\u001b[1;31mNameError\u001b[0m                                 Traceback (most recent call last)",
      "Cell \u001b[1;32mIn[2], line 1\u001b[0m\n\u001b[1;32m----> 1\u001b[0m conn\u001b[38;5;241m.\u001b[39mconnect(host\u001b[38;5;241m=\u001b[39m\u001b[43mdb_host\u001b[49m,user\u001b[38;5;241m=\u001b[39mdb_user,passwd\u001b[38;5;241m=\u001b[39mdb_password)\n",
      "\u001b[1;31mNameError\u001b[0m: name 'db_host' is not defined"
     ]
    }
   ],
   "source": [
    "conn.connect(host=db_host,user=db_user,passwd=db_password)"
   ]
  },
  {
   "cell_type": "code",
   "execution_count": 23,
   "id": "662ff966-5398-4d71-b3ed-2e5a144a66e5",
   "metadata": {},
   "outputs": [],
   "source": [
    "mydbobj=conn.connect(host=db_host,user=db_user,passwd=db_password)"
   ]
  },
  {
   "cell_type": "code",
   "execution_count": 25,
   "id": "846d9bc9-68b4-4979-9d7e-6b192b65a8b4",
   "metadata": {},
   "outputs": [],
   "source": [
    "cursor=mydbobj.cursor()"
   ]
  },
  {
   "cell_type": "code",
   "execution_count": 27,
   "id": "1014d2d1-b673-43be-a026-cba6a255fb4f",
   "metadata": {},
   "outputs": [
    {
     "data": {
      "text/plain": [
       "<mysql.connector.cursor_cext.CMySQLCursor at 0x281614ad850>"
      ]
     },
     "execution_count": 27,
     "metadata": {},
     "output_type": "execute_result"
    }
   ],
   "source": [
    "# cursor.execute(\"select * from table_name\")\n",
    "# cursor.fetchall()\n",
    "cursor"
   ]
  },
  {
   "cell_type": "code",
   "execution_count": 29,
   "id": "77d5f7f3-985c-4cff-ab92-299575cd73d6",
   "metadata": {},
   "outputs": [],
   "source": [
    "cursor.execute(\"show databases\")"
   ]
  },
  {
   "cell_type": "code",
   "execution_count": 31,
   "id": "ef535d16-88a8-4d60-b2b1-8e4f874dec13",
   "metadata": {},
   "outputs": [
    {
     "data": {
      "text/plain": [
       "[('aimerz',),\n",
       " ('information_schema',),\n",
       " ('my_database',),\n",
       " ('mysql',),\n",
       " ('performance_schema',),\n",
       " ('sakila',),\n",
       " ('sql_db',),\n",
       " ('sql_db2',),\n",
       " ('sys',),\n",
       " ('world',)]"
      ]
     },
     "execution_count": 31,
     "metadata": {},
     "output_type": "execute_result"
    }
   ],
   "source": [
    "cursor.fetchall()"
   ]
  },
  {
   "cell_type": "code",
   "execution_count": 39,
   "id": "48f98a27-8eae-4776-adc8-b6681ee35acf",
   "metadata": {},
   "outputs": [],
   "source": [
    "cursor.execute(\"create database creds\")"
   ]
  },
  {
   "cell_type": "code",
   "execution_count": 41,
   "id": "d1512549-a579-49ad-83c1-b3f7ccf39d76",
   "metadata": {},
   "outputs": [],
   "source": [
    "cursor.execute(\"show databases\")"
   ]
  },
  {
   "cell_type": "code",
   "execution_count": 43,
   "id": "fca9f01d-63a6-4b9f-9d7a-872a3bff9a3d",
   "metadata": {},
   "outputs": [
    {
     "data": {
      "text/plain": [
       "[('aimerz',),\n",
       " ('creds',),\n",
       " ('information_schema',),\n",
       " ('my_database',),\n",
       " ('mysql',),\n",
       " ('performance_schema',),\n",
       " ('sakila',),\n",
       " ('sql_db',),\n",
       " ('sql_db2',),\n",
       " ('sys',),\n",
       " ('world',)]"
      ]
     },
     "execution_count": 43,
     "metadata": {},
     "output_type": "execute_result"
    }
   ],
   "source": [
    "cursor.fetchall()"
   ]
  },
  {
   "cell_type": "code",
   "execution_count": 45,
   "id": "4890c60b-28bf-4e47-8197-028f9d2fd885",
   "metadata": {},
   "outputs": [],
   "source": [
    "cursor.execute(\"use creds\")"
   ]
  },
  {
   "cell_type": "code",
   "execution_count": 47,
   "id": "85ce0322-2634-4fc2-91fb-f1fac0074c63",
   "metadata": {},
   "outputs": [],
   "source": [
    "cursor.execute(\"create table users(name VARCHAR(20),  email VARCHAR(100), password VARCHAR(20))\")"
   ]
  },
  {
   "cell_type": "code",
   "execution_count": 49,
   "id": "bc9410a7-e266-4895-a449-8118ae38ed7f",
   "metadata": {},
   "outputs": [],
   "source": [
    "cursor.execute(\"insert into users values('Jyoti','example@gmail.com','qwerty')\")"
   ]
  },
  {
   "cell_type": "code",
   "execution_count": 51,
   "id": "512ced1c-6830-40ad-b173-fa69af6f2299",
   "metadata": {},
   "outputs": [],
   "source": [
    "cursor.execute(\"select * from users\")"
   ]
  },
  {
   "cell_type": "code",
   "execution_count": 53,
   "id": "a894db61-012e-415a-bf34-3c7054f9685f",
   "metadata": {},
   "outputs": [
    {
     "data": {
      "text/plain": [
       "[('Jyoti', 'example@gmail.com', 'qwerty')]"
      ]
     },
     "execution_count": 53,
     "metadata": {},
     "output_type": "execute_result"
    }
   ],
   "source": [
    "cursor.fetchall()"
   ]
  },
  {
   "cell_type": "code",
   "execution_count": 55,
   "id": "fec29e9c-f710-4874-b207-100a8b9ccd7a",
   "metadata": {},
   "outputs": [],
   "source": [
    "cursor.execute(\"show databases\")"
   ]
  },
  {
   "cell_type": "code",
   "execution_count": 57,
   "id": "fa3e4275-2762-4793-a9b0-b4eb648cbdb8",
   "metadata": {},
   "outputs": [
    {
     "data": {
      "text/plain": [
       "[('aimerz',),\n",
       " ('creds',),\n",
       " ('information_schema',),\n",
       " ('my_database',),\n",
       " ('mysql',),\n",
       " ('performance_schema',),\n",
       " ('sakila',),\n",
       " ('sql_db',),\n",
       " ('sql_db2',),\n",
       " ('sys',),\n",
       " ('world',)]"
      ]
     },
     "execution_count": 57,
     "metadata": {},
     "output_type": "execute_result"
    }
   ],
   "source": [
    "cursor.fetchall()"
   ]
  },
  {
   "cell_type": "code",
   "execution_count": 59,
   "id": "25aea917-50af-4ea3-9b25-76e8f2b30695",
   "metadata": {},
   "outputs": [],
   "source": [
    "cursor.execute(\"drop database creds\")"
   ]
  },
  {
   "cell_type": "code",
   "execution_count": 61,
   "id": "d2fb19d0-0050-42c2-a3b4-47e3ae226bb3",
   "metadata": {},
   "outputs": [],
   "source": [
    "cursor.execute(\"show databases\")"
   ]
  },
  {
   "cell_type": "code",
   "execution_count": 63,
   "id": "9246e94c-3e68-4815-9b98-98122ed855cf",
   "metadata": {},
   "outputs": [
    {
     "data": {
      "text/plain": [
       "[('aimerz',),\n",
       " ('information_schema',),\n",
       " ('my_database',),\n",
       " ('mysql',),\n",
       " ('performance_schema',),\n",
       " ('sakila',),\n",
       " ('sql_db',),\n",
       " ('sql_db2',),\n",
       " ('sys',),\n",
       " ('world',)]"
      ]
     },
     "execution_count": 63,
     "metadata": {},
     "output_type": "execute_result"
    }
   ],
   "source": [
    "cursor.fetchall()"
   ]
  },
  {
   "cell_type": "code",
   "execution_count": null,
   "id": "fa6cd1e7-7edb-44b0-80d4-2792af824c55",
   "metadata": {},
   "outputs": [],
   "source": []
  }
 ],
 "metadata": {
  "kernelspec": {
   "display_name": "Python 3 (ipykernel)",
   "language": "python",
   "name": "python3"
  },
  "language_info": {
   "codemirror_mode": {
    "name": "ipython",
    "version": 3
   },
   "file_extension": ".py",
   "mimetype": "text/x-python",
   "name": "python",
   "nbconvert_exporter": "python",
   "pygments_lexer": "ipython3",
   "version": "3.13.1"
  }
 },
 "nbformat": 4,
 "nbformat_minor": 5
}
